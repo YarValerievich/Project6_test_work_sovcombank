{
 "cells": [
  {
   "cell_type": "markdown",
   "id": "87faaddc",
   "metadata": {},
   "source": [
    "# Тестовое задание, Рассадин Ярослав, Совкомбанк Страхование "
   ]
  },
  {
   "cell_type": "markdown",
   "id": "ffb8f96d",
   "metadata": {},
   "source": [
    "<span style=\"font-size: 16pt; font-weight: bold; margin-left: 1em;\">Цель исследования</span>\n",
    "\n",
    "- Прочитать и объединить данные из двух файлов в один датафрейм.\n",
    "- Преобразовать типы данных и добавить новые столбцы.\n",
    "- Предобработать и визуализировать данные о продажах автомобилей по моделям и цветам.\n",
    "- Определить наиболее востребованный цвет для каждой модели автомобилей.\n",
    "\n",
    "Цель исследования заключается в изучении представленных данных о продажах автомобилей и определении, какие цвета наиболее популярны для каждой модели. Работа с данными включает чтение и запись файлов, преобразование типов данных и предварительную обработку текстовых данных. Затем происходит визуализация данных с использованием интерактивного графика, чтобы проанализировать предпочтения цвета для каждой модели автомобиля. Исследование позволяет сделать выводы о предпочтениях потребителей в выборе цвета для разных моделей автомобилей."
   ]
  },
  {
   "cell_type": "markdown",
   "id": "0d8023d0",
   "metadata": {},
   "source": [
    "<span style=\"font-size: 16pt; font-weight: bold; margin-left: 1em;\">Методика исследования</span>\n",
    "\n"
   ]
  },
  {
   "cell_type": "markdown",
   "id": "f2caaab8",
   "metadata": {},
   "source": [
    "Методика исследования включает следующие шаги:\n",
    "\n",
    "1. Чтение и запись файлов с помощью pandas.\n",
    "   1. Используя функцию pd.read_excel(), прочитать файлы \"1. data1.xlsx\" и \"1. data2.xlsx\" в датафреймы, указав нужные листы с помощью параметра sheet_name.\n",
    "   2. Объединить данные из файлов с помощью функции pd.concat(), указав столбцы \"X1\", \"x2\" и \"y\".\n",
    "   3. Записать исходный датафрейм в CSV файл с помощью функции to_csv(), указав нужный разделитель \",\".\n",
    "\n",
    "\n",
    "\n",
    "2. Работа с типами данных.\n",
    "   1. Используя функцию pd.read_csv(), прочитать первые 4 столбца файла \"2. Data.xlsx\", пропустив первые 3 строки с помощью параметра skiprows.\n",
    "   2. Преобразовать столбец \"№\" в тип float с помощью функции astype().\n",
    "   3. Преобразовать столбцы \"дата1\" и \"дата2\" в формат DateTime с помощью функции to_datetime().\n",
    "   4. Создать столбец \"дней до сегодня\", вычислив разницу между \"дата1\" и текущей датой с помощью функции pd.Timestamp.now() и операции вычитания.\n",
    "\n",
    "\n",
    "\n",
    "3. Предобработка текста и визуализация данных.\n",
    "   1. Используя функцию pd.read_csv(), прочитать файл \"3. Data.xlsx\" и задать названия столбцов \"Марка и модель\", \"Цвет\" и \"Объем продаж, шт\".\n",
    "   2. Провести предобработку данных, включающую удаление дубликатов, заполнение пропущенных значений или их удаление, приведение текстовых данных к единому виду и т.д.\n",
    "   3. Если данные требуют преобразования форматов, например, для столбцов с числовыми значениями или датами, использовать функции astype() или to_datetime() соответственно.\n",
    "   4. Визуализировать данные с использованием интерактивного графика, отображая наиболее востребованный цвет для каждой модели автомобиля.\n",
    "   5. Сделать выводы по графику, исследуя предпочтения цвета у каждой модели автомобиля и выявив наиболее популярные цвета для разных моделей."
   ]
  },
  {
   "cell_type": "markdown",
   "id": "7ac2ffe6",
   "metadata": {
    "toc": true
   },
   "source": [
    "<h1>Оглавление:<span class=\"tocSkip\"></span></h1>\n",
    "<div class=\"toc\"><ul class=\"toc-item\"><li><span><a href=\"#Чтение-и-запись-файлов-при-помощи-Pandas\" data-toc-modified-id=\"Чтение-и-запись-файлов-при-помощи-Pandas-1\"><span class=\"toc-item-num\">1&nbsp;&nbsp;</span>Чтение и запись файлов при помощи Pandas</a></span><ul class=\"toc-item\"><li><span><a href=\"#Импортирование-библиотек\" data-toc-modified-id=\"Импортирование-библиотек-1.1\"><span class=\"toc-item-num\">1.1&nbsp;&nbsp;</span>Импортирование библиотек</a></span></li><li><span><a href=\"#Выгрузка-данных-из-1.-data1.xlsx-и-1.-data2.xlsx\" data-toc-modified-id=\"Выгрузка-данных-из-1.-data1.xlsx-и-1.-data2.xlsx-1.2\"><span class=\"toc-item-num\">1.2&nbsp;&nbsp;</span>Выгрузка данных из <code>1. data1.xlsx</code> и <code>1. data2.xlsx</code></a></span></li><li><span><a href=\"#Полученный-csv-файл\" data-toc-modified-id=\"Полученный-csv-файл-1.3\"><span class=\"toc-item-num\">1.3&nbsp;&nbsp;</span>Полученный csv файл</a></span></li></ul></li><li><span><a href=\"#Работа-с-типами-данных\" data-toc-modified-id=\"Работа-с-типами-данных-2\"><span class=\"toc-item-num\">2&nbsp;&nbsp;</span>Работа с типами данных</a></span><ul class=\"toc-item\"><li><span><a href=\"#Выгрузка-данных-из-2.-Data.xlsx\" data-toc-modified-id=\"Выгрузка-данных-из-2.-Data.xlsx-2.1\"><span class=\"toc-item-num\">2.1&nbsp;&nbsp;</span>Выгрузка данных из <code>2. Data.xlsx</code></a></span></li><li><span><a href=\"#Преобразование-типов-данных\" data-toc-modified-id=\"Преобразование-типов-данных-2.2\"><span class=\"toc-item-num\">2.2&nbsp;&nbsp;</span>Преобразование типов данных</a></span></li><li><span><a href=\"#Создание-столбца-«дней-до-сегодня»\" data-toc-modified-id=\"Создание-столбца-«дней-до-сегодня»-2.3\"><span class=\"toc-item-num\">2.3&nbsp;&nbsp;</span>Создание столбца «дней до сегодня»</a></span></li></ul></li><li><span><a href=\"#Предобработка-текста-и-визуализация-данных\" data-toc-modified-id=\"Предобработка-текста-и-визуализация-данных-3\"><span class=\"toc-item-num\">3&nbsp;&nbsp;</span>Предобработка текста и визуализация данных</a></span><ul class=\"toc-item\"><li><span><a href=\"#Выгрузка-данных-из-3.-Data.xlsx\" data-toc-modified-id=\"Выгрузка-данных-из-3.-Data.xlsx-3.1\"><span class=\"toc-item-num\">3.1&nbsp;&nbsp;</span>Выгрузка данных из <code>3. Data.xlsx</code></a></span></li><li><span><a href=\"#Проверка-на-пропуски\" data-toc-modified-id=\"Проверка-на-пропуски-3.2\"><span class=\"toc-item-num\">3.2&nbsp;&nbsp;</span>Проверка на пропуски</a></span></li><li><span><a href=\"#Приведение-к-единому-виду\" data-toc-modified-id=\"Приведение-к-единому-виду-3.3\"><span class=\"toc-item-num\">3.3&nbsp;&nbsp;</span>Приведение к единому виду</a></span></li><li><span><a href=\"#Визуализация-ответа-на-вопрос-«Какой-цвет-наиболее-востребован-у-каждой-из-моделей-проданных-авто?»\" data-toc-modified-id=\"Визуализация-ответа-на-вопрос-«Какой-цвет-наиболее-востребован-у-каждой-из-моделей-проданных-авто?»-3.4\"><span class=\"toc-item-num\">3.4&nbsp;&nbsp;</span>Визуализация ответа на вопрос «Какой цвет наиболее востребован у каждой из моделей проданных авто?»</a></span></li></ul></li><li><span><a href=\"#Выводы\" data-toc-modified-id=\"Выводы-4\"><span class=\"toc-item-num\">4&nbsp;&nbsp;</span>Выводы</a></span></li></ul></div>"
   ]
  },
  {
   "cell_type": "markdown",
   "id": "0c93e767",
   "metadata": {},
   "source": [
    "## Чтение и запись файлов при помощи Pandas"
   ]
  },
  {
   "cell_type": "markdown",
   "id": "c4220d8f",
   "metadata": {},
   "source": [
    "### Импортирование библиотек"
   ]
  },
  {
   "cell_type": "code",
   "execution_count": 1,
   "id": "47758917",
   "metadata": {},
   "outputs": [],
   "source": [
    "import pandas as pd\n",
    "import numpy as np\n",
    "from datetime import datetime\n",
    "import matplotlib.pyplot as plt\n",
    "import seaborn as sns\n",
    "import os\n",
    "import re"
   ]
  },
  {
   "cell_type": "markdown",
   "id": "ea4d1b05",
   "metadata": {},
   "source": [
    "### Выгрузка данных из `1. data1.xlsx` и `1. data2.xlsx`"
   ]
  },
  {
   "cell_type": "code",
   "execution_count": 2,
   "id": "96894a07",
   "metadata": {
    "scrolled": false
   },
   "outputs": [
    {
     "name": "stdout",
     "output_type": "stream",
     "text": [
      "Данные успешно объединены и сохранены в combined_data.csv\n"
     ]
    }
   ],
   "source": [
    "# Проверяем, что файлы существуют\n",
    "if os.path.exists('1. data1.xlsx') and os.path.exists('1. data2.xlsx'):\n",
    "    # Читаем данные из первого файла\n",
    "    data1_features1 = pd.read_excel('1. data1.xlsx', sheet_name='фичи1')\n",
    "    data1_features2 = pd.read_excel('1. data1.xlsx', sheet_name='фичи2')\n",
    "\n",
    "    # Читаем данные из второго файла\n",
    "    data2_answers1 = pd.read_excel('1. data2.xlsx', sheet_name='ответы1')\n",
    "    data2_answers2 = pd.read_excel('1. data2.xlsx', sheet_name='ответы2')\n",
    "\n",
    "    # Объединяем данные в один датафрейм\n",
    "    combined_data = pd.concat([data1_features1, data1_features2, data2_answers1, data2_answers2], axis=0)\n",
    "\n",
    "    # Переименовываем столбцы\n",
    "    combined_data.columns = ['x1', 'x2', 'y']\n",
    "\n",
    "    # Записываем датафрейм в csv файл\n",
    "    combined_data.to_csv('combined_data.csv', index=False, sep=\",\")\n",
    "    print(\"Данные успешно объединены и сохранены в combined_data.csv\")\n",
    "else:\n",
    "    print(\"Один или оба файла не найдены!\")"
   ]
  },
  {
   "cell_type": "markdown",
   "id": "609cf07b",
   "metadata": {},
   "source": [
    "### Полученный csv файл"
   ]
  },
  {
   "cell_type": "code",
   "execution_count": 3,
   "id": "52eb8a1a",
   "metadata": {},
   "outputs": [
    {
     "name": "stdout",
     "output_type": "stream",
     "text": [
      "<class 'pandas.core.frame.DataFrame'>\n",
      "Int64Index: 2998 entries, 0 to 798\n",
      "Data columns (total 3 columns):\n",
      " #   Column  Non-Null Count  Dtype  \n",
      "---  ------  --------------  -----  \n",
      " 0   x1      1499 non-null   float64\n",
      " 1   x2      1499 non-null   float64\n",
      " 2   y       1499 non-null   float64\n",
      "dtypes: float64(3)\n",
      "memory usage: 93.7 KB\n"
     ]
    },
    {
     "data": {
      "text/html": [
       "<div>\n",
       "<style scoped>\n",
       "    .dataframe tbody tr th:only-of-type {\n",
       "        vertical-align: middle;\n",
       "    }\n",
       "\n",
       "    .dataframe tbody tr th {\n",
       "        vertical-align: top;\n",
       "    }\n",
       "\n",
       "    .dataframe thead th {\n",
       "        text-align: right;\n",
       "    }\n",
       "</style>\n",
       "<table border=\"1\" class=\"dataframe\">\n",
       "  <thead>\n",
       "    <tr style=\"text-align: right;\">\n",
       "      <th></th>\n",
       "      <th>x1</th>\n",
       "      <th>x2</th>\n",
       "      <th>y</th>\n",
       "    </tr>\n",
       "  </thead>\n",
       "  <tbody>\n",
       "    <tr>\n",
       "      <th>0</th>\n",
       "      <td>0.577020</td>\n",
       "      <td>-0.401648</td>\n",
       "      <td>NaN</td>\n",
       "    </tr>\n",
       "    <tr>\n",
       "      <th>1</th>\n",
       "      <td>-0.661923</td>\n",
       "      <td>0.612560</td>\n",
       "      <td>NaN</td>\n",
       "    </tr>\n",
       "    <tr>\n",
       "      <th>2</th>\n",
       "      <td>-0.738111</td>\n",
       "      <td>0.592446</td>\n",
       "      <td>NaN</td>\n",
       "    </tr>\n",
       "    <tr>\n",
       "      <th>3</th>\n",
       "      <td>1.627918</td>\n",
       "      <td>-0.254933</td>\n",
       "      <td>NaN</td>\n",
       "    </tr>\n",
       "    <tr>\n",
       "      <th>4</th>\n",
       "      <td>1.976551</td>\n",
       "      <td>0.048637</td>\n",
       "      <td>NaN</td>\n",
       "    </tr>\n",
       "  </tbody>\n",
       "</table>\n",
       "</div>"
      ],
      "text/plain": [
       "         x1        x2   y\n",
       "0  0.577020 -0.401648 NaN\n",
       "1 -0.661923  0.612560 NaN\n",
       "2 -0.738111  0.592446 NaN\n",
       "3  1.627918 -0.254933 NaN\n",
       "4  1.976551  0.048637 NaN"
      ]
     },
     "execution_count": 3,
     "metadata": {},
     "output_type": "execute_result"
    }
   ],
   "source": [
    "combined_data.info()\n",
    "combined_data.head()"
   ]
  },
  {
   "cell_type": "markdown",
   "id": "c5b345ae",
   "metadata": {},
   "source": [
    "## Работа с типами данных"
   ]
  },
  {
   "cell_type": "markdown",
   "id": "d1aebf79",
   "metadata": {},
   "source": [
    "### Выгрузка данных из `2. Data.xlsx`"
   ]
  },
  {
   "cell_type": "code",
   "execution_count": 4,
   "id": "d9eb7606",
   "metadata": {
    "scrolled": true
   },
   "outputs": [
    {
     "data": {
      "text/html": [
       "<div>\n",
       "<style scoped>\n",
       "    .dataframe tbody tr th:only-of-type {\n",
       "        vertical-align: middle;\n",
       "    }\n",
       "\n",
       "    .dataframe tbody tr th {\n",
       "        vertical-align: top;\n",
       "    }\n",
       "\n",
       "    .dataframe thead th {\n",
       "        text-align: right;\n",
       "    }\n",
       "</style>\n",
       "<table border=\"1\" class=\"dataframe\">\n",
       "  <thead>\n",
       "    <tr style=\"text-align: right;\">\n",
       "      <th></th>\n",
       "      <th>№</th>\n",
       "      <th>дата1</th>\n",
       "      <th>дата2</th>\n",
       "      <th>текст</th>\n",
       "    </tr>\n",
       "  </thead>\n",
       "  <tbody>\n",
       "    <tr>\n",
       "      <th>0</th>\n",
       "      <td>1797344894</td>\n",
       "      <td>17.05.2021</td>\n",
       "      <td>06.12.2021</td>\n",
       "      <td>MggOIJV4</td>\n",
       "    </tr>\n",
       "    <tr>\n",
       "      <th>1</th>\n",
       "      <td>1206736113</td>\n",
       "      <td>14.04.2021</td>\n",
       "      <td>07.10.2021</td>\n",
       "      <td>KIdSRIUU</td>\n",
       "    </tr>\n",
       "    <tr>\n",
       "      <th>2</th>\n",
       "      <td>1922424045</td>\n",
       "      <td>04.03.2021</td>\n",
       "      <td>09.09.2021</td>\n",
       "      <td>cdO6vlPn</td>\n",
       "    </tr>\n",
       "    <tr>\n",
       "      <th>3</th>\n",
       "      <td>1495231914</td>\n",
       "      <td>13.01.2021</td>\n",
       "      <td>28.06.2021</td>\n",
       "      <td>Y3WsRnNl</td>\n",
       "    </tr>\n",
       "    <tr>\n",
       "      <th>4</th>\n",
       "      <td>1073154291</td>\n",
       "      <td>15.05.2020</td>\n",
       "      <td>14.05.2021</td>\n",
       "      <td>lKhrsle8</td>\n",
       "    </tr>\n",
       "  </tbody>\n",
       "</table>\n",
       "</div>"
      ],
      "text/plain": [
       "            №       дата1       дата2     текст\n",
       "0  1797344894  17.05.2021  06.12.2021  MggOIJV4\n",
       "1  1206736113  14.04.2021  07.10.2021  KIdSRIUU\n",
       "2  1922424045  04.03.2021  09.09.2021  cdO6vlPn\n",
       "3  1495231914  13.01.2021  28.06.2021  Y3WsRnNl\n",
       "4  1073154291  15.05.2020  14.05.2021  lKhrsle8"
      ]
     },
     "execution_count": 4,
     "metadata": {},
     "output_type": "execute_result"
    }
   ],
   "source": [
    "# Чтение файла, пропуск первых 3 строк\n",
    "df = pd.read_excel('2. Data.xlsx', skiprows=3)\n",
    "\n",
    "# Чтение первых 4 столбцов\n",
    "df = df.iloc[:, :4]\n",
    "\n",
    "df.head()"
   ]
  },
  {
   "cell_type": "markdown",
   "id": "3df93640",
   "metadata": {},
   "source": [
    "### Преобразование типов данных"
   ]
  },
  {
   "cell_type": "code",
   "execution_count": 5,
   "id": "5b0ba85d",
   "metadata": {},
   "outputs": [
    {
     "name": "stdout",
     "output_type": "stream",
     "text": [
      "<class 'pandas.core.frame.DataFrame'>\n",
      "RangeIndex: 342 entries, 0 to 341\n",
      "Data columns (total 4 columns):\n",
      " #   Column  Non-Null Count  Dtype         \n",
      "---  ------  --------------  -----         \n",
      " 0   №       342 non-null    float64       \n",
      " 1   дата1   341 non-null    datetime64[ns]\n",
      " 2   дата2   340 non-null    datetime64[ns]\n",
      " 3   текст   342 non-null    object        \n",
      "dtypes: datetime64[ns](2), float64(1), object(1)\n",
      "memory usage: 10.8+ KB\n"
     ]
    },
    {
     "data": {
      "text/html": [
       "<div>\n",
       "<style scoped>\n",
       "    .dataframe tbody tr th:only-of-type {\n",
       "        vertical-align: middle;\n",
       "    }\n",
       "\n",
       "    .dataframe tbody tr th {\n",
       "        vertical-align: top;\n",
       "    }\n",
       "\n",
       "    .dataframe thead th {\n",
       "        text-align: right;\n",
       "    }\n",
       "</style>\n",
       "<table border=\"1\" class=\"dataframe\">\n",
       "  <thead>\n",
       "    <tr style=\"text-align: right;\">\n",
       "      <th></th>\n",
       "      <th>№</th>\n",
       "      <th>дата1</th>\n",
       "      <th>дата2</th>\n",
       "      <th>текст</th>\n",
       "    </tr>\n",
       "  </thead>\n",
       "  <tbody>\n",
       "    <tr>\n",
       "      <th>0</th>\n",
       "      <td>1.797345e+09</td>\n",
       "      <td>2021-05-17</td>\n",
       "      <td>2021-06-12</td>\n",
       "      <td>MggOIJV4</td>\n",
       "    </tr>\n",
       "    <tr>\n",
       "      <th>1</th>\n",
       "      <td>1.206736e+09</td>\n",
       "      <td>2021-04-14</td>\n",
       "      <td>2021-07-10</td>\n",
       "      <td>KIdSRIUU</td>\n",
       "    </tr>\n",
       "    <tr>\n",
       "      <th>2</th>\n",
       "      <td>1.922424e+09</td>\n",
       "      <td>2021-04-03</td>\n",
       "      <td>2021-09-09</td>\n",
       "      <td>cdO6vlPn</td>\n",
       "    </tr>\n",
       "    <tr>\n",
       "      <th>3</th>\n",
       "      <td>1.495232e+09</td>\n",
       "      <td>2021-01-13</td>\n",
       "      <td>2021-06-28</td>\n",
       "      <td>Y3WsRnNl</td>\n",
       "    </tr>\n",
       "    <tr>\n",
       "      <th>4</th>\n",
       "      <td>1.073154e+09</td>\n",
       "      <td>2020-05-15</td>\n",
       "      <td>2021-05-14</td>\n",
       "      <td>lKhrsle8</td>\n",
       "    </tr>\n",
       "  </tbody>\n",
       "</table>\n",
       "</div>"
      ],
      "text/plain": [
       "              №      дата1      дата2     текст\n",
       "0  1.797345e+09 2021-05-17 2021-06-12  MggOIJV4\n",
       "1  1.206736e+09 2021-04-14 2021-07-10  KIdSRIUU\n",
       "2  1.922424e+09 2021-04-03 2021-09-09  cdO6vlPn\n",
       "3  1.495232e+09 2021-01-13 2021-06-28  Y3WsRnNl\n",
       "4  1.073154e+09 2020-05-15 2021-05-14  lKhrsle8"
      ]
     },
     "execution_count": 5,
     "metadata": {},
     "output_type": "execute_result"
    }
   ],
   "source": [
    "# Преобразование столбца «№» в тип float\n",
    "df['№'] = df['№'].astype(float)\n",
    "\n",
    "# Преобразование столбцов «дата1» и «дата2» в формат DateTime\n",
    "df['дата1'] = pd.to_datetime(df['дата1'])\n",
    "df['дата2'] = pd.to_datetime(df['дата2'])\n",
    "\n",
    "df.info()\n",
    "df.head()"
   ]
  },
  {
   "cell_type": "markdown",
   "id": "6eb18df7",
   "metadata": {},
   "source": [
    "### Создание столбца «дней до сегодня»"
   ]
  },
  {
   "cell_type": "code",
   "execution_count": 6,
   "id": "b6cb2d3d",
   "metadata": {
    "scrolled": true
   },
   "outputs": [
    {
     "data": {
      "text/html": [
       "<div>\n",
       "<style scoped>\n",
       "    .dataframe tbody tr th:only-of-type {\n",
       "        vertical-align: middle;\n",
       "    }\n",
       "\n",
       "    .dataframe tbody tr th {\n",
       "        vertical-align: top;\n",
       "    }\n",
       "\n",
       "    .dataframe thead th {\n",
       "        text-align: right;\n",
       "    }\n",
       "</style>\n",
       "<table border=\"1\" class=\"dataframe\">\n",
       "  <thead>\n",
       "    <tr style=\"text-align: right;\">\n",
       "      <th></th>\n",
       "      <th>№</th>\n",
       "      <th>дата1</th>\n",
       "      <th>дата2</th>\n",
       "      <th>текст</th>\n",
       "      <th>дней до сегодня</th>\n",
       "    </tr>\n",
       "  </thead>\n",
       "  <tbody>\n",
       "    <tr>\n",
       "      <th>0</th>\n",
       "      <td>1.797345e+09</td>\n",
       "      <td>2021-05-17</td>\n",
       "      <td>2021-06-12</td>\n",
       "      <td>MggOIJV4</td>\n",
       "      <td>991.0</td>\n",
       "    </tr>\n",
       "    <tr>\n",
       "      <th>1</th>\n",
       "      <td>1.206736e+09</td>\n",
       "      <td>2021-04-14</td>\n",
       "      <td>2021-07-10</td>\n",
       "      <td>KIdSRIUU</td>\n",
       "      <td>1024.0</td>\n",
       "    </tr>\n",
       "    <tr>\n",
       "      <th>2</th>\n",
       "      <td>1.922424e+09</td>\n",
       "      <td>2021-04-03</td>\n",
       "      <td>2021-09-09</td>\n",
       "      <td>cdO6vlPn</td>\n",
       "      <td>1035.0</td>\n",
       "    </tr>\n",
       "    <tr>\n",
       "      <th>3</th>\n",
       "      <td>1.495232e+09</td>\n",
       "      <td>2021-01-13</td>\n",
       "      <td>2021-06-28</td>\n",
       "      <td>Y3WsRnNl</td>\n",
       "      <td>1115.0</td>\n",
       "    </tr>\n",
       "    <tr>\n",
       "      <th>4</th>\n",
       "      <td>1.073154e+09</td>\n",
       "      <td>2020-05-15</td>\n",
       "      <td>2021-05-14</td>\n",
       "      <td>lKhrsle8</td>\n",
       "      <td>1358.0</td>\n",
       "    </tr>\n",
       "  </tbody>\n",
       "</table>\n",
       "</div>"
      ],
      "text/plain": [
       "              №      дата1      дата2     текст  дней до сегодня\n",
       "0  1.797345e+09 2021-05-17 2021-06-12  MggOIJV4            991.0\n",
       "1  1.206736e+09 2021-04-14 2021-07-10  KIdSRIUU           1024.0\n",
       "2  1.922424e+09 2021-04-03 2021-09-09  cdO6vlPn           1035.0\n",
       "3  1.495232e+09 2021-01-13 2021-06-28  Y3WsRnNl           1115.0\n",
       "4  1.073154e+09 2020-05-15 2021-05-14  lKhrsle8           1358.0"
      ]
     },
     "execution_count": 6,
     "metadata": {},
     "output_type": "execute_result"
    }
   ],
   "source": [
    "# Получение текущей даты\n",
    "today = pd.to_datetime('today')\n",
    "\n",
    "# Создание столбца «дней до сегодня»\n",
    "df['дней до сегодня'] = (today - df['дата1']).dt.days\n",
    "\n",
    "df.head()"
   ]
  },
  {
   "cell_type": "markdown",
   "id": "a11cf49f",
   "metadata": {},
   "source": [
    "## Предобработка текста и визуализация данных"
   ]
  },
  {
   "cell_type": "markdown",
   "id": "b4ba89c4",
   "metadata": {},
   "source": [
    "### Выгрузка данных из `3. Data.xlsx`"
   ]
  },
  {
   "cell_type": "code",
   "execution_count": 7,
   "id": "d34c868f",
   "metadata": {
    "scrolled": false
   },
   "outputs": [
    {
     "name": "stdout",
     "output_type": "stream",
     "text": [
      "<class 'pandas.core.frame.DataFrame'>\n",
      "RangeIndex: 43 entries, 0 to 42\n",
      "Data columns (total 3 columns):\n",
      " #   Column            Non-Null Count  Dtype \n",
      "---  ------            --------------  ----- \n",
      " 0   Марка и модель    43 non-null     object\n",
      " 1   Цвет              40 non-null     object\n",
      " 2   Объем продаж, шт  43 non-null     int32 \n",
      "dtypes: int32(1), object(2)\n",
      "memory usage: 988.0+ bytes\n"
     ]
    },
    {
     "data": {
      "text/html": [
       "<div>\n",
       "<style scoped>\n",
       "    .dataframe tbody tr th:only-of-type {\n",
       "        vertical-align: middle;\n",
       "    }\n",
       "\n",
       "    .dataframe tbody tr th {\n",
       "        vertical-align: top;\n",
       "    }\n",
       "\n",
       "    .dataframe thead th {\n",
       "        text-align: right;\n",
       "    }\n",
       "</style>\n",
       "<table border=\"1\" class=\"dataframe\">\n",
       "  <thead>\n",
       "    <tr style=\"text-align: right;\">\n",
       "      <th></th>\n",
       "      <th>Марка и модель</th>\n",
       "      <th>Цвет</th>\n",
       "      <th>Объем продаж, шт</th>\n",
       "    </tr>\n",
       "  </thead>\n",
       "  <tbody>\n",
       "    <tr>\n",
       "      <th>0</th>\n",
       "      <td>KIA RIO</td>\n",
       "      <td>белый</td>\n",
       "      <td>12</td>\n",
       "    </tr>\n",
       "    <tr>\n",
       "      <th>1</th>\n",
       "      <td>KIA RIO</td>\n",
       "      <td>белый</td>\n",
       "      <td>23</td>\n",
       "    </tr>\n",
       "    <tr>\n",
       "      <th>2</th>\n",
       "      <td>KIA RIO</td>\n",
       "      <td>черный</td>\n",
       "      <td>15</td>\n",
       "    </tr>\n",
       "    <tr>\n",
       "      <th>3</th>\n",
       "      <td>KIA RIO</td>\n",
       "      <td>черный</td>\n",
       "      <td>24</td>\n",
       "    </tr>\n",
       "    <tr>\n",
       "      <th>4</th>\n",
       "      <td>KIA RIO</td>\n",
       "      <td>черный</td>\n",
       "      <td>0</td>\n",
       "    </tr>\n",
       "    <tr>\n",
       "      <th>5</th>\n",
       "      <td>KIA RIO</td>\n",
       "      <td>серый</td>\n",
       "      <td>7</td>\n",
       "    </tr>\n",
       "    <tr>\n",
       "      <th>6</th>\n",
       "      <td>KIA RIO</td>\n",
       "      <td>серый</td>\n",
       "      <td>44</td>\n",
       "    </tr>\n",
       "    <tr>\n",
       "      <th>7</th>\n",
       "      <td>KIA RIO</td>\n",
       "      <td>серый</td>\n",
       "      <td>14</td>\n",
       "    </tr>\n",
       "    <tr>\n",
       "      <th>8</th>\n",
       "      <td>KIA RIO</td>\n",
       "      <td>пусто</td>\n",
       "      <td>36</td>\n",
       "    </tr>\n",
       "    <tr>\n",
       "      <th>9</th>\n",
       "      <td>KIA RIO</td>\n",
       "      <td>NaN</td>\n",
       "      <td>37</td>\n",
       "    </tr>\n",
       "    <tr>\n",
       "      <th>10</th>\n",
       "      <td>HYUNDAI CRETA</td>\n",
       "      <td>черный</td>\n",
       "      <td>33</td>\n",
       "    </tr>\n",
       "    <tr>\n",
       "      <th>11</th>\n",
       "      <td>HYUNDAI CRETA</td>\n",
       "      <td>черный</td>\n",
       "      <td>7</td>\n",
       "    </tr>\n",
       "    <tr>\n",
       "      <th>12</th>\n",
       "      <td>HYUNDAI CRETA</td>\n",
       "      <td>черный</td>\n",
       "      <td>43</td>\n",
       "    </tr>\n",
       "    <tr>\n",
       "      <th>13</th>\n",
       "      <td>HYUNDAI CRETA</td>\n",
       "      <td>черный</td>\n",
       "      <td>44</td>\n",
       "    </tr>\n",
       "    <tr>\n",
       "      <th>14</th>\n",
       "      <td>HYUNDAI CRETA</td>\n",
       "      <td>серый</td>\n",
       "      <td>8</td>\n",
       "    </tr>\n",
       "    <tr>\n",
       "      <th>15</th>\n",
       "      <td>HYUNDAI CRETA</td>\n",
       "      <td>серый</td>\n",
       "      <td>2</td>\n",
       "    </tr>\n",
       "    <tr>\n",
       "      <th>16</th>\n",
       "      <td>HYUNDAI CRETA</td>\n",
       "      <td>серый</td>\n",
       "      <td>11</td>\n",
       "    </tr>\n",
       "    <tr>\n",
       "      <th>17</th>\n",
       "      <td>HYUNDAI CRETA</td>\n",
       "      <td>NaN</td>\n",
       "      <td>5</td>\n",
       "    </tr>\n",
       "    <tr>\n",
       "      <th>18</th>\n",
       "      <td>VOLKSWAGEN POLO</td>\n",
       "      <td>белый</td>\n",
       "      <td>18</td>\n",
       "    </tr>\n",
       "    <tr>\n",
       "      <th>19</th>\n",
       "      <td>VOLKSWAGEN POLO</td>\n",
       "      <td>белый</td>\n",
       "      <td>6</td>\n",
       "    </tr>\n",
       "    <tr>\n",
       "      <th>20</th>\n",
       "      <td>VOLKSWAGEN POLO</td>\n",
       "      <td>белый</td>\n",
       "      <td>38</td>\n",
       "    </tr>\n",
       "    <tr>\n",
       "      <th>21</th>\n",
       "      <td>VOLKSWAGEN POLO</td>\n",
       "      <td>черный</td>\n",
       "      <td>43</td>\n",
       "    </tr>\n",
       "    <tr>\n",
       "      <th>22</th>\n",
       "      <td>VOLKSWAGEN POLO</td>\n",
       "      <td>черный</td>\n",
       "      <td>39</td>\n",
       "    </tr>\n",
       "    <tr>\n",
       "      <th>23</th>\n",
       "      <td>VOLKSWAGEN POLO</td>\n",
       "      <td>черный</td>\n",
       "      <td>18</td>\n",
       "    </tr>\n",
       "    <tr>\n",
       "      <th>24</th>\n",
       "      <td>VOLKSWAGEN POLO</td>\n",
       "      <td>серый</td>\n",
       "      <td>47</td>\n",
       "    </tr>\n",
       "    <tr>\n",
       "      <th>25</th>\n",
       "      <td>VOLKSWAGEN POLO</td>\n",
       "      <td>серый</td>\n",
       "      <td>45</td>\n",
       "    </tr>\n",
       "    <tr>\n",
       "      <th>26</th>\n",
       "      <td>VOLKSWAGEN POLO</td>\n",
       "      <td>серый</td>\n",
       "      <td>36</td>\n",
       "    </tr>\n",
       "    <tr>\n",
       "      <th>27</th>\n",
       "      <td>VOLKSWAGEN POLO</td>\n",
       "      <td>красный</td>\n",
       "      <td>14</td>\n",
       "    </tr>\n",
       "    <tr>\n",
       "      <th>28</th>\n",
       "      <td>VOLKSWAGEN POLO</td>\n",
       "      <td>красный</td>\n",
       "      <td>25</td>\n",
       "    </tr>\n",
       "    <tr>\n",
       "      <th>29</th>\n",
       "      <td>VOLKSWAGEN POLO</td>\n",
       "      <td>красный</td>\n",
       "      <td>21</td>\n",
       "    </tr>\n",
       "    <tr>\n",
       "      <th>30</th>\n",
       "      <td>VOLKSWAGEN POLO</td>\n",
       "      <td>красный</td>\n",
       "      <td>7</td>\n",
       "    </tr>\n",
       "    <tr>\n",
       "      <th>31</th>\n",
       "      <td>VOLKSWAGEN POLO</td>\n",
       "      <td>пусто</td>\n",
       "      <td>42</td>\n",
       "    </tr>\n",
       "    <tr>\n",
       "      <th>32</th>\n",
       "      <td>VOLKSWAGEN POLO</td>\n",
       "      <td>NaN</td>\n",
       "      <td>37</td>\n",
       "    </tr>\n",
       "    <tr>\n",
       "      <th>33</th>\n",
       "      <td>NISSAN X-TRAIL</td>\n",
       "      <td>синий</td>\n",
       "      <td>43</td>\n",
       "    </tr>\n",
       "    <tr>\n",
       "      <th>34</th>\n",
       "      <td>NISSAN X-TRAIL</td>\n",
       "      <td>синий</td>\n",
       "      <td>44</td>\n",
       "    </tr>\n",
       "    <tr>\n",
       "      <th>35</th>\n",
       "      <td>NISSAN X-TRAIL</td>\n",
       "      <td>синий</td>\n",
       "      <td>50</td>\n",
       "    </tr>\n",
       "    <tr>\n",
       "      <th>36</th>\n",
       "      <td>NISSAN X-TRAIL</td>\n",
       "      <td>серый</td>\n",
       "      <td>41</td>\n",
       "    </tr>\n",
       "    <tr>\n",
       "      <th>37</th>\n",
       "      <td>NISSAN X-TRAIL</td>\n",
       "      <td>серый</td>\n",
       "      <td>38</td>\n",
       "    </tr>\n",
       "    <tr>\n",
       "      <th>38</th>\n",
       "      <td>NISSAN X-TRAIL</td>\n",
       "      <td>серый</td>\n",
       "      <td>10</td>\n",
       "    </tr>\n",
       "    <tr>\n",
       "      <th>39</th>\n",
       "      <td>NISSAN X-TRAIL</td>\n",
       "      <td>серый</td>\n",
       "      <td>18</td>\n",
       "    </tr>\n",
       "    <tr>\n",
       "      <th>40</th>\n",
       "      <td>NISSAN X-TRAIL</td>\n",
       "      <td>красный</td>\n",
       "      <td>10</td>\n",
       "    </tr>\n",
       "    <tr>\n",
       "      <th>41</th>\n",
       "      <td>NISSAN X-TRAIL</td>\n",
       "      <td>красный</td>\n",
       "      <td>6</td>\n",
       "    </tr>\n",
       "    <tr>\n",
       "      <th>42</th>\n",
       "      <td>NISSAN X-TRAIL</td>\n",
       "      <td>красный</td>\n",
       "      <td>18</td>\n",
       "    </tr>\n",
       "  </tbody>\n",
       "</table>\n",
       "</div>"
      ],
      "text/plain": [
       "     Марка и модель        Цвет  Объем продаж, шт\n",
       "0           KIA RIO       белый                12\n",
       "1           KIA RIO       белый                23\n",
       "2           KIA RIO      черный                15\n",
       "3           KIA RIO    черный                  24\n",
       "4           KIA RIO      черный                 0\n",
       "5           KIA RIO       серый                 7\n",
       "6           KIA RIO       серый                44\n",
       "7           KIA RIO       серый                14\n",
       "8           KIA RIO       пусто                36\n",
       "9           KIA RIO         NaN                37\n",
       "10    HYUNDAI CRETA      черный                33\n",
       "11    HYUNDAI CRETA    черный                   7\n",
       "12    HYUNDAI CRETA      черный                43\n",
       "13    HYUNDAI CRETA      черный                44\n",
       "14    HYUNDAI CRETA       серый                 8\n",
       "15    HYUNDAI CRETA       серый                 2\n",
       "16    HYUNDAI CRETA       серый                11\n",
       "17    HYUNDAI CRETA         NaN                 5\n",
       "18  VOLKSWAGEN POLO       белый                18\n",
       "19  VOLKSWAGEN POLO       белый                 6\n",
       "20  VOLKSWAGEN POLO       белый                38\n",
       "21  VOLKSWAGEN POLO      черный                43\n",
       "22  VOLKSWAGEN POLO      черный                39\n",
       "23  VOLKSWAGEN POLO    черный                  18\n",
       "24  VOLKSWAGEN POLO       серый                47\n",
       "25  VOLKSWAGEN POLO    серый                   45\n",
       "26  VOLKSWAGEN POLO       серый                36\n",
       "27  VOLKSWAGEN POLO     красный                14\n",
       "28  VOLKSWAGEN POLO     красный                25\n",
       "29  VOLKSWAGEN POLO     красный                21\n",
       "30  VOLKSWAGEN POLO     красный                 7\n",
       "31  VOLKSWAGEN POLO       пусто                42\n",
       "32  VOLKSWAGEN POLO         NaN                37\n",
       "33   NISSAN X-TRAIL       синий                43\n",
       "34   NISSAN X-TRAIL       синий                44\n",
       "35   NISSAN X-TRAIL       синий                50\n",
       "36   NISSAN X-TRAIL       серый                41\n",
       "37   NISSAN X-TRAIL     серый                  38\n",
       "38   NISSAN X-TRAIL       серый                10\n",
       "39   NISSAN X-TRAIL       серый                18\n",
       "40   NISSAN X-TRAIL     красный                10\n",
       "41   NISSAN X-TRAIL   красный                   6\n",
       "42   NISSAN X-TRAIL     красный                18"
      ]
     },
     "execution_count": 7,
     "metadata": {},
     "output_type": "execute_result"
    }
   ],
   "source": [
    "df = pd.read_excel('3. Data.xlsx', names=['Марка и модель', 'Цвет', 'Объем продаж, шт'])\n",
    "\n",
    "# Приведение данных к единому виду\n",
    "df['Марка и модель'] = df['Марка и модель'].str.upper()\n",
    "df['Цвет'] = df['Цвет'].str.lower() \n",
    "\n",
    "# Замена всех символов кроме цифр на 0\n",
    "df['Объем продаж, шт'] = df['Объем продаж, шт']\\\n",
    "    .apply(lambda x: re.sub(r'\\D', '0', str(x)))\n",
    "\n",
    "# Преобразование типа данных столбца \"Объем продаж, шт\" в int\n",
    "df['Объем продаж, шт'] = df['Объем продаж, шт'].astype(int)\n",
    "\n",
    "df.info()\n",
    "df"
   ]
  },
  {
   "cell_type": "markdown",
   "id": "c1b11b29",
   "metadata": {},
   "source": [
    "### Проверка на пропуски"
   ]
  },
  {
   "cell_type": "code",
   "execution_count": 8,
   "id": "fcb443e5",
   "metadata": {},
   "outputs": [
    {
     "data": {
      "text/plain": [
       "Марка и модель      0\n",
       "Цвет                3\n",
       "Объем продаж, шт    0\n",
       "dtype: int64"
      ]
     },
     "execution_count": 8,
     "metadata": {},
     "output_type": "execute_result"
    }
   ],
   "source": [
    "df.isnull().sum()"
   ]
  },
  {
   "cell_type": "markdown",
   "id": "a3c91c22",
   "metadata": {},
   "source": [
    "При обнаружении пропусков аналитик оценивает целесообразность и возможность удаления данных в случае невозможности объяснить природу возникновения отсутствия части инфмормации."
   ]
  },
  {
   "cell_type": "markdown",
   "id": "5f220467",
   "metadata": {},
   "source": [
    "### Приведение к единому виду"
   ]
  },
  {
   "cell_type": "code",
   "execution_count": 9,
   "id": "61fabaf8",
   "metadata": {
    "scrolled": true
   },
   "outputs": [
    {
     "name": "stdout",
     "output_type": "stream",
     "text": [
      "['белый' 'черный' 'черный  ' 'серый' '  серый' 'пусто' nan 'серый   '\n",
      " 'красный' '   синий' 'синий' 'серый  ' '   красный' 'красный  ']\n"
     ]
    }
   ],
   "source": [
    "# Проверка на наличие отличий в отображении данных в столбце \"Цвет\"\n",
    "unique_colors = df['Цвет'].unique()\n",
    "print(unique_colors)"
   ]
  },
  {
   "cell_type": "code",
   "execution_count": 10,
   "id": "0321114e",
   "metadata": {},
   "outputs": [
    {
     "name": "stdout",
     "output_type": "stream",
     "text": [
      "['белый' 'черный' 'серый' 'пусто' nan 'красный' 'синий']\n"
     ]
    }
   ],
   "source": [
    "# Приведение к единому виду\n",
    "df['Цвет'] = df['Цвет'].str.strip().str.lower()\n",
    "\n",
    "unique_colors = df['Цвет'].unique()\n",
    "print(unique_colors)"
   ]
  },
  {
   "cell_type": "code",
   "execution_count": 11,
   "id": "f3f5b670",
   "metadata": {},
   "outputs": [],
   "source": [
    "# Замена пустых значений на NaN\n",
    "df['Цвет'] = df['Цвет'].replace('пусто', np.nan)"
   ]
  },
  {
   "cell_type": "code",
   "execution_count": 12,
   "id": "20695529",
   "metadata": {},
   "outputs": [
    {
     "data": {
      "text/plain": [
       "array(['KIA RIO', 'HYUNDAI CRETA', 'VOLKSWAGEN POLO', 'NISSAN X-TRAIL'],\n",
       "      dtype=object)"
      ]
     },
     "execution_count": 12,
     "metadata": {},
     "output_type": "execute_result"
    }
   ],
   "source": [
    "# Проверка на наличие отличий в отображении данных в столбце \"Марка и модель\"\n",
    "df['Марка и модель'].unique()"
   ]
  },
  {
   "cell_type": "markdown",
   "id": "95149003",
   "metadata": {},
   "source": [
    "### Визуализация ответа на вопрос «Какой цвет наиболее востребован у каждой из моделей проданных авто?»"
   ]
  },
  {
   "cell_type": "code",
   "execution_count": 13,
   "id": "3ae34379",
   "metadata": {},
   "outputs": [
    {
     "data": {
      "image/png": "[encoded data removed]",
      "text/plain": [
       "<Figure size 1000x600 with 1 Axes>"
      ]
     },
     "metadata": {},
     "output_type": "display_data"
    }
   ],
   "source": [
    "# Группировка данных по моделям и цвету, подсчет количества продаж каждого цвета для каждой модели\n",
    "color_demand = df.groupby(['Марка и модель', 'Цвет'])['Объем продаж, шт'].sum().reset_index()\n",
    "\n",
    "# Определение наиболее востребованного цвета для каждой модели\n",
    "most_demand_colors = color_demand.groupby('Марка и модель')['Цвет']\\\n",
    "    .agg(lambda x: x.value_counts().index[0]).reset_index()\n",
    "\n",
    "# Визуализация\n",
    "color_palette = ['#FFFFFF', '#000000', '#808080', '#FF0000', '#0000FF']\n",
    "\n",
    "plt.figure(figsize=(10, 6))\n",
    "sns.barplot(x='Марка и модель', y='Объем продаж, шт', hue='Цвет', data=df, \n",
    "            palette=color_palette, edgecolor='black', linewidth=0.8)\n",
    "plt.title('Продажи автомобилей по цветам для каждой модели')\n",
    "plt.xlabel('Марка и модель')\n",
    "plt.ylabel('Объем продаж, шт')\n",
    "plt.xticks(rotation=45)\n",
    "plt.legend(title='Цвет')\n",
    "\n",
    "# Добавление пунктирных линий на оси y\n",
    "for y in range(0, df['Объем продаж, шт'].max()+1, 5):\n",
    "    plt.axhline(y, color='gray', linestyle='dashed', linewidth=0.8)\n",
    "    \n",
    "plt.show()"
   ]
  },
  {
   "cell_type": "markdown",
   "id": "7fb9d6a6",
   "metadata": {},
   "source": [
    "По полученным данным мы можем сделать вывод, что наиболее востребованным у `KIA RIO` является `серый цвет`, у `HYUNDAI CRETA` является `черный` цвет, у `VOLKSWAGEN POLO` является `серый` цвет, а у `NISSAN X-TRAIL` самым востребованным является `синий` цвет.\n",
    "\n",
    "Также мы видим, что KIA RIO поставляется в трех цветовых исполнениях, а именно белый, черный и серый, HYUNDAI CRETA в двух - черный и серый, VOLKSWAGEN POLO в четрыех - белый, черный, серый и белый, NISSAN X-TRAIL в трех - серый, красный и синий."
   ]
  },
  {
   "cell_type": "markdown",
   "id": "bbbd0632",
   "metadata": {},
   "source": [
    "## Выводы"
   ]
  },
  {
   "cell_type": "markdown",
   "id": "33e48b04",
   "metadata": {},
   "source": [
    "В ходе выполнения исследования было выполнено несколько задач:\n",
    "\n",
    "1. Чтение и запись файлов с помощью pandas:\n",
    "   - Были прочитаны два файла `1. data1.xlsx` и `1. data2.xlsx` с помощью функции pd.read_excel().\n",
    "   - Данные из файлов были объединены в один датафрейм с колонками \"X1\", \"x2\" и \"y\" с помощью функции pd.concat().\n",
    "   - Исходный датафрейм был записан в csv файл с разделителями \",\" с помощью функции to_csv().\n",
    "\n",
    "\n",
    "2. Работа с типами данных:\n",
    "   - Из файла `2. Data.xlsx` было прочитано первые 4 столбца, пропуская первые 3 строки, с помощью функции pd.read_csv() и параметра skiprows.\n",
    "   - Столбец \"№\" был преобразован в тип float с помощью функции astype().\n",
    "   - Столбцы \"дата1\" и \"дата2\" были преобразованы в формат DateTime с помощью функции to_datetime().\n",
    "   - Был создан столбец \"дней до сегодня\", который подсчитывает количество дней от \"дата1\" до сегодняшней даты с использованием функции pd.Timestamp.now() и операции вычитания.\n",
    "\n",
    "\n",
    "3. Предобработка текста и визуализация данных:\n",
    "   - Прочитан файл `3. Data.xlsx` с данными о продажах автомобилей с указанием марки, модели, цвета и объема продаж.\n",
    "   - Были выполнены предобработка данных, включая приведение к единому виду текстовых данных.\n",
    "   - Были преобразованы форматы данных с помощью функций astype() и to_datetime().\n",
    "   - Был построен интерактивный график, отображающий наиболее востребованный цвет для каждой модели проданных автомобилей.\n",
    "\n",
    "\n",
    "4. Вывод:\n",
    "    - Наиболее востребованным у `KIA RIO` является `серый` цвет, у `HYUNDAI CRETA` является `черный` цвет, у `VOLKSWAGEN POLO` является `серый` цвет, а у `NISSAN X-TRAIL` самым востребованным является `синий` цвет.\n",
    "    - Визуализация позволяет сравнить популярность цветов для разных моделей автомобилей и выявить тенденции в предпочтениях потребителей.\n",
    "    - Определение наиболее востребованного цвета может помочь производителям автомобилей адаптировать производство и удовлетворить потребности рынка."
   ]
  }
 ],
 "metadata": {
  "kernelspec": {
   "display_name": "Python 3 (ipykernel)",
   "language": "python",
   "name": "python3"
  },
  "language_info": {
   "codemirror_mode": {
    "name": "ipython",
    "version": 3
   },
   "file_extension": ".py",
   "mimetype": "text/x-python",
   "name": "python",
   "nbconvert_exporter": "python",
   "pygments_lexer": "ipython3",
   "version": "3.9.13"
  },
  "toc": {
   "base_numbering": 1,
   "nav_menu": {},
   "number_sections": true,
   "sideBar": true,
   "skip_h1_title": true,
   "title_cell": "Оглавление:",
   "title_sidebar": "Contents",
   "toc_cell": true,
   "toc_position": {
    "height": "calc(100% - 180px)",
    "left": "10px",
    "top": "150px",
    "width": "274px"
   },
   "toc_section_display": true,
   "toc_window_display": true
  }
 },
 "nbformat": 4,
 "nbformat_minor": 5
}
